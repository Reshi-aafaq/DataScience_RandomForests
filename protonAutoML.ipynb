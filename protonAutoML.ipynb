{
 "cells": [
  {
   "cell_type": "code",
   "execution_count": 1,
   "metadata": {},
   "outputs": [],
   "source": [
    "import pandas as pd\n",
    "import numpy as np\n",
    "import matplotlib.pyplot as plt\n",
    "import seaborn as sns\n",
    "from collections import defaultdict"
   ]
  },
  {
   "cell_type": "code",
   "execution_count": 2,
   "metadata": {},
   "outputs": [],
   "source": [
    "df = pd.read_csv('salary,satisfaction.csv' ,encoding ='unicode_escape')"
   ]
  },
  {
   "cell_type": "code",
   "execution_count": 3,
   "metadata": {},
   "outputs": [
    {
     "data": {
      "text/html": [
       "<div>\n",
       "<style scoped>\n",
       "    .dataframe tbody tr th:only-of-type {\n",
       "        vertical-align: middle;\n",
       "    }\n",
       "\n",
       "    .dataframe tbody tr th {\n",
       "        vertical-align: top;\n",
       "    }\n",
       "\n",
       "    .dataframe thead th {\n",
       "        text-align: right;\n",
       "    }\n",
       "</style>\n",
       "<table border=\"1\" class=\"dataframe\">\n",
       "  <thead>\n",
       "    <tr style=\"text-align: right;\">\n",
       "      <th></th>\n",
       "      <th>id</th>\n",
       "      <th>Target_Salary</th>\n",
       "      <th>Target_Satisfied</th>\n",
       "      <th>LOAN_AMT</th>\n",
       "      <th>Business Title</th>\n",
       "      <th>Civil Service Title</th>\n",
       "      <th>Division/Work Unit</th>\n",
       "      <th>Job Description</th>\n",
       "      <th>Minimum Qual Requirements</th>\n",
       "      <th>Preferred Skills</th>\n",
       "      <th>...</th>\n",
       "      <th>homeaddress</th>\n",
       "      <th>latitude</th>\n",
       "      <th>longitude</th>\n",
       "      <th>PHONE</th>\n",
       "      <th>officeaddress</th>\n",
       "      <th>website</th>\n",
       "      <th>dateAdded</th>\n",
       "      <th>previousaddress</th>\n",
       "      <th>phones</th>\n",
       "      <th>CrimeTime</th>\n",
       "    </tr>\n",
       "  </thead>\n",
       "  <tbody>\n",
       "    <tr>\n",
       "      <td>0</td>\n",
       "      <td>68407277</td>\n",
       "      <td>42405.00</td>\n",
       "      <td>0</td>\n",
       "      <td>$3,600.00</td>\n",
       "      <td>Account Manager</td>\n",
       "      <td>CONTRACT REVIEWER (OFFICE OF L</td>\n",
       "      <td>Strategy &amp; Analytics</td>\n",
       "      <td>Division of Economic &amp; Financial Opportunity (...</td>\n",
       "      <td>1.\\tA baccalaureate degree from an accredited ...</td>\n",
       "      <td>â¢\\tExcellent interpersonal and organizationa...</td>\n",
       "      <td>...</td>\n",
       "      <td>346 W Magnolia Ave Auburn, AL 36832 US</td>\n",
       "      <td>32.606813</td>\n",
       "      <td>-85.487328</td>\n",
       "      <td>(91) 555 22 82</td>\n",
       "      <td>PO Box 4653, Stockton, California, 95204</td>\n",
       "      <td>http://www.valleybrew.com/</td>\n",
       "      <td>2016-04-22T02:47:48Z</td>\n",
       "      <td>1045 San Pablo Ave</td>\n",
       "      <td>(510) 528-2375</td>\n",
       "      <td>23:30:00</td>\n",
       "    </tr>\n",
       "    <tr>\n",
       "      <td>1</td>\n",
       "      <td>68355089</td>\n",
       "      <td>60740.00</td>\n",
       "      <td>1</td>\n",
       "      <td>$24,700.00</td>\n",
       "      <td>EXECUTIVE DIRECTOR, BUSINESS DEVELOPMENT</td>\n",
       "      <td>ADMINISTRATIVE BUSINESS PROMOT</td>\n",
       "      <td>Tech Talent Pipeline</td>\n",
       "      <td>The New York City Department of Small Business...</td>\n",
       "      <td>1. A baccalaureate degree from an accredited c...</td>\n",
       "      <td>NaN</td>\n",
       "      <td>...</td>\n",
       "      <td>300 20th St S Birmingham, AL 35233 US</td>\n",
       "      <td>33.509722</td>\n",
       "      <td>-86.802756</td>\n",
       "      <td>NaN</td>\n",
       "      <td>157 Adams St., Stockton, California, 95204</td>\n",
       "      <td>http://www.valleybrew.com/</td>\n",
       "      <td>2016-04-22T02:47:48Z</td>\n",
       "      <td>1045 San Pablo Ave</td>\n",
       "      <td>(510) 528-2375</td>\n",
       "      <td>23:00:00</td>\n",
       "    </tr>\n",
       "    <tr>\n",
       "      <td>2</td>\n",
       "      <td>68341763</td>\n",
       "      <td>51907.68</td>\n",
       "      <td>0</td>\n",
       "      <td>$20,000.00</td>\n",
       "      <td>Maintenance Worker - Technical Services-Heatin...</td>\n",
       "      <td>MAINTENANCE WORKER</td>\n",
       "      <td>Management Services Department</td>\n",
       "      <td>Under direct supervision, assist in the routin...</td>\n",
       "      <td>1. Three years of full-time satisfactory exper...</td>\n",
       "      <td>1.  A High School Diploma or GED.  2.  CDL Dri...</td>\n",
       "      <td>...</td>\n",
       "      <td>3220 Morrow Rd Birmingham, AL 35235 US</td>\n",
       "      <td>33.595581</td>\n",
       "      <td>-86.647437</td>\n",
       "      <td>NaN</td>\n",
       "      <td>1950 W Freemont, Stockton, California, 95203</td>\n",
       "      <td>http://www.valleybrew.com/</td>\n",
       "      <td>2016-04-22T02:47:48Z</td>\n",
       "      <td>1045 San Pablo Ave</td>\n",
       "      <td>(510) 528-2375</td>\n",
       "      <td>22:53:00</td>\n",
       "    </tr>\n",
       "    <tr>\n",
       "      <td>3</td>\n",
       "      <td>66310712</td>\n",
       "      <td>51907.68</td>\n",
       "      <td>0</td>\n",
       "      <td>$35,000.00</td>\n",
       "      <td>Maintenance Worker - Technical Services-Heatin...</td>\n",
       "      <td>MAINTENANCE WORKER</td>\n",
       "      <td>Management Services Department</td>\n",
       "      <td>Under direct supervision, assist in the routin...</td>\n",
       "      <td>1. Three years of full-time satisfactory exper...</td>\n",
       "      <td>1.  A High School Diploma or GED.  2.  CDL Dri...</td>\n",
       "      <td>...</td>\n",
       "      <td>4719 Highway 280 Birmingham, AL 35242 US</td>\n",
       "      <td>33.422582</td>\n",
       "      <td>-86.698279</td>\n",
       "      <td>2125557818</td>\n",
       "      <td>102 S. State St., Ukiah, California, 95482</td>\n",
       "      <td>http://www.ukiahbrewingco.com/</td>\n",
       "      <td>2016-04-22T02:47:48Z</td>\n",
       "      <td>1045 San Pablo Ave</td>\n",
       "      <td>(510) 528-2375</td>\n",
       "      <td>22:50:00</td>\n",
       "    </tr>\n",
       "    <tr>\n",
       "      <td>4</td>\n",
       "      <td>68476807</td>\n",
       "      <td>35.00</td>\n",
       "      <td>1</td>\n",
       "      <td>$10,400.00</td>\n",
       "      <td>Temporary Painter</td>\n",
       "      <td>PAINTER</td>\n",
       "      <td>Dept of Management &amp; Planning</td>\n",
       "      <td>Responsibilities of selected candidates will i...</td>\n",
       "      <td>1. Five years of full-time satisfactory experi...</td>\n",
       "      <td>NaN</td>\n",
       "      <td>...</td>\n",
       "      <td>1821 Cherokee Ave SW Cullman, AL 35055 US</td>\n",
       "      <td>34.154134</td>\n",
       "      <td>-86.841220</td>\n",
       "      <td>26.47.1555</td>\n",
       "      <td>13011 Newport Ave. #100, Tustin, California, 9...</td>\n",
       "      <td>http://www.tustinbrewery.com/</td>\n",
       "      <td>2016-04-22T02:47:48Z</td>\n",
       "      <td>1045 San Pablo Ave</td>\n",
       "      <td>(510) 528-2375</td>\n",
       "      <td>22:31:00</td>\n",
       "    </tr>\n",
       "  </tbody>\n",
       "</table>\n",
       "<p>5 rows × 83 columns</p>\n",
       "</div>"
      ],
      "text/plain": [
       "         id  Target_Salary  Target_Satisfied     LOAN_AMT  \\\n",
       "0  68407277       42405.00                 0   $3,600.00    \n",
       "1  68355089       60740.00                 1  $24,700.00    \n",
       "2  68341763       51907.68                 0  $20,000.00    \n",
       "3  66310712       51907.68                 0  $35,000.00    \n",
       "4  68476807          35.00                 1  $10,400.00    \n",
       "\n",
       "                                      Business Title  \\\n",
       "0                                    Account Manager   \n",
       "1           EXECUTIVE DIRECTOR, BUSINESS DEVELOPMENT   \n",
       "2  Maintenance Worker - Technical Services-Heatin...   \n",
       "3  Maintenance Worker - Technical Services-Heatin...   \n",
       "4                                  Temporary Painter   \n",
       "\n",
       "              Civil Service Title              Division/Work Unit  \\\n",
       "0  CONTRACT REVIEWER (OFFICE OF L            Strategy & Analytics   \n",
       "1  ADMINISTRATIVE BUSINESS PROMOT            Tech Talent Pipeline   \n",
       "2              MAINTENANCE WORKER  Management Services Department   \n",
       "3              MAINTENANCE WORKER  Management Services Department   \n",
       "4                         PAINTER   Dept of Management & Planning   \n",
       "\n",
       "                                     Job Description  \\\n",
       "0  Division of Economic & Financial Opportunity (...   \n",
       "1  The New York City Department of Small Business...   \n",
       "2  Under direct supervision, assist in the routin...   \n",
       "3  Under direct supervision, assist in the routin...   \n",
       "4  Responsibilities of selected candidates will i...   \n",
       "\n",
       "                           Minimum Qual Requirements  \\\n",
       "0  1.\\tA baccalaureate degree from an accredited ...   \n",
       "1  1. A baccalaureate degree from an accredited c...   \n",
       "2  1. Three years of full-time satisfactory exper...   \n",
       "3  1. Three years of full-time satisfactory exper...   \n",
       "4  1. Five years of full-time satisfactory experi...   \n",
       "\n",
       "                                    Preferred Skills  ...  \\\n",
       "0  â¢\\tExcellent interpersonal and organizationa...  ...   \n",
       "1                                                NaN  ...   \n",
       "2  1.  A High School Diploma or GED.  2.  CDL Dri...  ...   \n",
       "3  1.  A High School Diploma or GED.  2.  CDL Dri...  ...   \n",
       "4                                                NaN  ...   \n",
       "\n",
       "                                 homeaddress   latitude  longitude  \\\n",
       "0     346 W Magnolia Ave Auburn, AL 36832 US  32.606813 -85.487328   \n",
       "1      300 20th St S Birmingham, AL 35233 US  33.509722 -86.802756   \n",
       "2     3220 Morrow Rd Birmingham, AL 35235 US  33.595581 -86.647437   \n",
       "3   4719 Highway 280 Birmingham, AL 35242 US  33.422582 -86.698279   \n",
       "4  1821 Cherokee Ave SW Cullman, AL 35055 US  34.154134 -86.841220   \n",
       "\n",
       "            PHONE                                      officeaddress  \\\n",
       "0  (91) 555 22 82           PO Box 4653, Stockton, California, 95204   \n",
       "1             NaN         157 Adams St., Stockton, California, 95204   \n",
       "2             NaN       1950 W Freemont, Stockton, California, 95203   \n",
       "3      2125557818         102 S. State St., Ukiah, California, 95482   \n",
       "4      26.47.1555  13011 Newport Ave. #100, Tustin, California, 9...   \n",
       "\n",
       "                          website             dateAdded     previousaddress  \\\n",
       "0      http://www.valleybrew.com/  2016-04-22T02:47:48Z  1045 San Pablo Ave   \n",
       "1      http://www.valleybrew.com/  2016-04-22T02:47:48Z  1045 San Pablo Ave   \n",
       "2      http://www.valleybrew.com/  2016-04-22T02:47:48Z  1045 San Pablo Ave   \n",
       "3  http://www.ukiahbrewingco.com/  2016-04-22T02:47:48Z  1045 San Pablo Ave   \n",
       "4   http://www.tustinbrewery.com/  2016-04-22T02:47:48Z  1045 San Pablo Ave   \n",
       "\n",
       "           phones CrimeTime  \n",
       "0  (510) 528-2375  23:30:00  \n",
       "1  (510) 528-2375  23:00:00  \n",
       "2  (510) 528-2375  22:53:00  \n",
       "3  (510) 528-2375  22:50:00  \n",
       "4  (510) 528-2375  22:31:00  \n",
       "\n",
       "[5 rows x 83 columns]"
      ]
     },
     "execution_count": 3,
     "metadata": {},
     "output_type": "execute_result"
    }
   ],
   "source": [
    "df.head(5)"
   ]
  },
  {
   "cell_type": "code",
   "execution_count": 4,
   "metadata": {},
   "outputs": [
    {
     "name": "stdout",
     "output_type": "stream",
     "text": [
      "<class 'pandas.core.frame.DataFrame'>\n",
      "RangeIndex: 2946 entries, 0 to 2945\n",
      "Data columns (total 83 columns):\n",
      "id                            2946 non-null int64\n",
      "Target_Salary                 2946 non-null float64\n",
      "Target_Satisfied              2946 non-null int64\n",
      "LOAN_AMT                      2946 non-null object\n",
      "Business Title                2946 non-null object\n",
      "Civil Service Title           2946 non-null object\n",
      "Division/Work Unit            2946 non-null object\n",
      "Job Description               2946 non-null object\n",
      "Minimum Qual Requirements     2926 non-null object\n",
      "Preferred Skills              2553 non-null object\n",
      "Additional Information        1854 non-null object\n",
      "To Apply                      2945 non-null object\n",
      "Hours/Shift                   884 non-null object\n",
      "Residency Requirement         2942 non-null object\n",
      "Posting Date                  2942 non-null object\n",
      "Posting Updated               2942 non-null object\n",
      "Process Date                  2942 non-null object\n",
      "FormalEducation               2894 non-null object\n",
      "UndergradMajor                2624 non-null object\n",
      "CompanySize                   2946 non-null object\n",
      "DevType                       2901 non-null object\n",
      "YearsCoding                   2943 non-null object\n",
      "YearsCodingProf               2538 non-null object\n",
      "HopeFiveYears                 2477 non-null object\n",
      "JobSearchStatus               2511 non-null object\n",
      "LastNewJob                    2499 non-null object\n",
      "UpdateCV                      2089 non-null object\n",
      "CommunicationTools            2023 non-null object\n",
      "TimeFullyProductive           2052 non-null object\n",
      "EducationTypes                2128 non-null object\n",
      "SelfTaughtTypes               1812 non-null object\n",
      "TimeAfterBootcamp             221 non-null object\n",
      "HackathonReasons              849 non-null object\n",
      "AgreeDisagree1                2133 non-null object\n",
      "AgreeDisagree2                2133 non-null object\n",
      "AgreeDisagree3                2139 non-null object\n",
      "LanguageWorkedWith            2447 non-null object\n",
      "LanguageDesireNextYear        2279 non-null object\n",
      "DatabaseWorkedWith            2130 non-null object\n",
      "DatabaseDesireNextYear        1831 non-null object\n",
      "PlatformWorkedWith            2070 non-null object\n",
      "PlatformDesireNextYear        1909 non-null object\n",
      "FrameworkWorkedWith           1633 non-null object\n",
      "FrameworkDesireNextYear       1731 non-null object\n",
      "IDE                           2360 non-null object\n",
      "OperatingSystem               2377 non-null object\n",
      "Methodology                   1991 non-null object\n",
      "VersionControl                2332 non-null object\n",
      "CheckInCode                   2319 non-null object\n",
      "AIDangerous                   2000 non-null object\n",
      "AIInteresting                 2076 non-null object\n",
      "AIResponsible                 2070 non-null object\n",
      "AIFuture                      2196 non-null object\n",
      "Age                           2027 non-null object\n",
      "term                          2946 non-null object\n",
      "loan_status                   2946 non-null object\n",
      "pymnt_plan                    2946 non-null object\n",
      "orignal_website_directory     2946 non-null object\n",
      "purpose                       2946 non-null object\n",
      "title                         2882 non-null object\n",
      "zip_code                      2946 non-null object\n",
      "addr_state                    2946 non-null object\n",
      "dti                           2946 non-null float64\n",
      "earliest_cr_line              2946 non-null object\n",
      "last_pymnt_d                  2946 non-null object\n",
      "last_pymnt_amnt               2946 non-null float64\n",
      "next_pymnt_d                  336 non-null object\n",
      "last_credit_pull_d            2946 non-null object\n",
      "Time                          2946 non-null object\n",
      "emp_length                    715 non-null object\n",
      "your_favoritearticle_today    2945 non-null object\n",
      "url                           2946 non-null object\n",
      "Email                         1941 non-null object\n",
      "homeaddress                   2629 non-null object\n",
      "latitude                      2629 non-null float64\n",
      "longitude                     2629 non-null float64\n",
      "PHONE                         715 non-null object\n",
      "officeaddress                 2407 non-null object\n",
      "website                       2399 non-null object\n",
      "dateAdded                     2946 non-null object\n",
      "previousaddress               2946 non-null object\n",
      "phones                        2946 non-null object\n",
      "CrimeTime                     2946 non-null object\n",
      "dtypes: float64(5), int64(2), object(76)\n",
      "memory usage: 1.9+ MB\n"
     ]
    }
   ],
   "source": [
    "df.info()"
   ]
  },
  {
   "cell_type": "code",
   "execution_count": 5,
   "metadata": {},
   "outputs": [
    {
     "data": {
      "text/html": [
       "<div>\n",
       "<style scoped>\n",
       "    .dataframe tbody tr th:only-of-type {\n",
       "        vertical-align: middle;\n",
       "    }\n",
       "\n",
       "    .dataframe tbody tr th {\n",
       "        vertical-align: top;\n",
       "    }\n",
       "\n",
       "    .dataframe thead th {\n",
       "        text-align: right;\n",
       "    }\n",
       "</style>\n",
       "<table border=\"1\" class=\"dataframe\">\n",
       "  <thead>\n",
       "    <tr style=\"text-align: right;\">\n",
       "      <th></th>\n",
       "      <th>YearsCodingProf</th>\n",
       "      <th>Target_Salary</th>\n",
       "    </tr>\n",
       "  </thead>\n",
       "  <tbody>\n",
       "    <tr>\n",
       "      <td>0</td>\n",
       "      <td>3-5 years</td>\n",
       "      <td>42405.00</td>\n",
       "    </tr>\n",
       "    <tr>\n",
       "      <td>1</td>\n",
       "      <td>18-20 years</td>\n",
       "      <td>60740.00</td>\n",
       "    </tr>\n",
       "    <tr>\n",
       "      <td>2</td>\n",
       "      <td>6-8 years</td>\n",
       "      <td>51907.68</td>\n",
       "    </tr>\n",
       "    <tr>\n",
       "      <td>3</td>\n",
       "      <td>12-14 years</td>\n",
       "      <td>51907.68</td>\n",
       "    </tr>\n",
       "    <tr>\n",
       "      <td>4</td>\n",
       "      <td>0-2 years</td>\n",
       "      <td>35.00</td>\n",
       "    </tr>\n",
       "    <tr>\n",
       "      <td>5</td>\n",
       "      <td>3-5 years</td>\n",
       "      <td>35.00</td>\n",
       "    </tr>\n",
       "    <tr>\n",
       "      <td>6</td>\n",
       "      <td>0-2 years</td>\n",
       "      <td>50598.00</td>\n",
       "    </tr>\n",
       "    <tr>\n",
       "      <td>7</td>\n",
       "      <td>3-5 years</td>\n",
       "      <td>50623.00</td>\n",
       "    </tr>\n",
       "    <tr>\n",
       "      <td>8</td>\n",
       "      <td>21-23 years</td>\n",
       "      <td>90000.00</td>\n",
       "    </tr>\n",
       "    <tr>\n",
       "      <td>9</td>\n",
       "      <td>NaN</td>\n",
       "      <td>30683.00</td>\n",
       "    </tr>\n",
       "    <tr>\n",
       "      <td>10</td>\n",
       "      <td>0-2 years</td>\n",
       "      <td>49492.00</td>\n",
       "    </tr>\n",
       "    <tr>\n",
       "      <td>11</td>\n",
       "      <td>NaN</td>\n",
       "      <td>87203.00</td>\n",
       "    </tr>\n",
       "    <tr>\n",
       "      <td>12</td>\n",
       "      <td>NaN</td>\n",
       "      <td>87203.00</td>\n",
       "    </tr>\n",
       "    <tr>\n",
       "      <td>13</td>\n",
       "      <td>3-5 years</td>\n",
       "      <td>8.75</td>\n",
       "    </tr>\n",
       "    <tr>\n",
       "      <td>14</td>\n",
       "      <td>0-2 years</td>\n",
       "      <td>8.75</td>\n",
       "    </tr>\n",
       "    <tr>\n",
       "      <td>15</td>\n",
       "      <td>3-5 years</td>\n",
       "      <td>32086.00</td>\n",
       "    </tr>\n",
       "    <tr>\n",
       "      <td>16</td>\n",
       "      <td>NaN</td>\n",
       "      <td>43292.00</td>\n",
       "    </tr>\n",
       "    <tr>\n",
       "      <td>17</td>\n",
       "      <td>0-2 years</td>\n",
       "      <td>49492.00</td>\n",
       "    </tr>\n",
       "    <tr>\n",
       "      <td>18</td>\n",
       "      <td>3-5 years</td>\n",
       "      <td>32086.00</td>\n",
       "    </tr>\n",
       "    <tr>\n",
       "      <td>19</td>\n",
       "      <td>NaN</td>\n",
       "      <td>81290.00</td>\n",
       "    </tr>\n",
       "    <tr>\n",
       "      <td>20</td>\n",
       "      <td>12-14 years</td>\n",
       "      <td>45174.00</td>\n",
       "    </tr>\n",
       "    <tr>\n",
       "      <td>21</td>\n",
       "      <td>24-26 years</td>\n",
       "      <td>32086.00</td>\n",
       "    </tr>\n",
       "    <tr>\n",
       "      <td>22</td>\n",
       "      <td>6-8 years</td>\n",
       "      <td>49492.00</td>\n",
       "    </tr>\n",
       "    <tr>\n",
       "      <td>23</td>\n",
       "      <td>18-20 years</td>\n",
       "      <td>38089.00</td>\n",
       "    </tr>\n",
       "    <tr>\n",
       "      <td>24</td>\n",
       "      <td>3-5 years</td>\n",
       "      <td>65458.80</td>\n",
       "    </tr>\n",
       "    <tr>\n",
       "      <td>25</td>\n",
       "      <td>9-11 years</td>\n",
       "      <td>65458.80</td>\n",
       "    </tr>\n",
       "    <tr>\n",
       "      <td>26</td>\n",
       "      <td>12-14 years</td>\n",
       "      <td>72260.00</td>\n",
       "    </tr>\n",
       "    <tr>\n",
       "      <td>27</td>\n",
       "      <td>0-2 years</td>\n",
       "      <td>72260.00</td>\n",
       "    </tr>\n",
       "    <tr>\n",
       "      <td>28</td>\n",
       "      <td>3-5 years</td>\n",
       "      <td>40055.00</td>\n",
       "    </tr>\n",
       "    <tr>\n",
       "      <td>29</td>\n",
       "      <td>6-8 years</td>\n",
       "      <td>81290.00</td>\n",
       "    </tr>\n",
       "  </tbody>\n",
       "</table>\n",
       "</div>"
      ],
      "text/plain": [
       "   YearsCodingProf  Target_Salary\n",
       "0        3-5 years       42405.00\n",
       "1      18-20 years       60740.00\n",
       "2        6-8 years       51907.68\n",
       "3      12-14 years       51907.68\n",
       "4        0-2 years          35.00\n",
       "5        3-5 years          35.00\n",
       "6        0-2 years       50598.00\n",
       "7        3-5 years       50623.00\n",
       "8      21-23 years       90000.00\n",
       "9              NaN       30683.00\n",
       "10       0-2 years       49492.00\n",
       "11             NaN       87203.00\n",
       "12             NaN       87203.00\n",
       "13       3-5 years           8.75\n",
       "14       0-2 years           8.75\n",
       "15       3-5 years       32086.00\n",
       "16             NaN       43292.00\n",
       "17       0-2 years       49492.00\n",
       "18       3-5 years       32086.00\n",
       "19             NaN       81290.00\n",
       "20     12-14 years       45174.00\n",
       "21     24-26 years       32086.00\n",
       "22       6-8 years       49492.00\n",
       "23     18-20 years       38089.00\n",
       "24       3-5 years       65458.80\n",
       "25      9-11 years       65458.80\n",
       "26     12-14 years       72260.00\n",
       "27       0-2 years       72260.00\n",
       "28       3-5 years       40055.00\n",
       "29       6-8 years       81290.00"
      ]
     },
     "execution_count": 5,
     "metadata": {},
     "output_type": "execute_result"
    }
   ],
   "source": [
    "df[['YearsCodingProf','Target_Salary']].head(30)"
   ]
  },
  {
   "cell_type": "code",
   "execution_count": null,
   "metadata": {},
   "outputs": [],
   "source": []
  },
  {
   "cell_type": "code",
   "execution_count": 6,
   "metadata": {},
   "outputs": [],
   "source": [
    "df['LOAN_AMT'] = df['LOAN_AMT'].apply(lambda x: x.replace('$',''))\n",
    "df['LOAN_AMT'] = df['LOAN_AMT'].apply(lambda x: x.replace(' ',''))\n",
    "df['LOAN_AMT'] = df['LOAN_AMT'].apply(lambda x: x.replace(',',''))"
   ]
  },
  {
   "cell_type": "code",
   "execution_count": 7,
   "metadata": {},
   "outputs": [],
   "source": [
    "df['LOAN_AMT'] = df['LOAN_AMT'].astype(float)"
   ]
  },
  {
   "cell_type": "code",
   "execution_count": 8,
   "metadata": {},
   "outputs": [
    {
     "data": {
      "text/html": [
       "<div>\n",
       "<style scoped>\n",
       "    .dataframe tbody tr th:only-of-type {\n",
       "        vertical-align: middle;\n",
       "    }\n",
       "\n",
       "    .dataframe tbody tr th {\n",
       "        vertical-align: top;\n",
       "    }\n",
       "\n",
       "    .dataframe thead th {\n",
       "        text-align: right;\n",
       "    }\n",
       "</style>\n",
       "<table border=\"1\" class=\"dataframe\">\n",
       "  <thead>\n",
       "    <tr style=\"text-align: right;\">\n",
       "      <th></th>\n",
       "      <th>id</th>\n",
       "      <th>Target_Salary</th>\n",
       "      <th>Target_Satisfied</th>\n",
       "      <th>LOAN_AMT</th>\n",
       "      <th>dti</th>\n",
       "      <th>last_pymnt_amnt</th>\n",
       "      <th>latitude</th>\n",
       "      <th>longitude</th>\n",
       "    </tr>\n",
       "  </thead>\n",
       "  <tbody>\n",
       "    <tr>\n",
       "      <td>id</td>\n",
       "      <td>1.000000</td>\n",
       "      <td>-0.010424</td>\n",
       "      <td>0.017360</td>\n",
       "      <td>0.004329</td>\n",
       "      <td>0.037443</td>\n",
       "      <td>-0.021086</td>\n",
       "      <td>-0.006909</td>\n",
       "      <td>0.016005</td>\n",
       "    </tr>\n",
       "    <tr>\n",
       "      <td>Target_Salary</td>\n",
       "      <td>-0.010424</td>\n",
       "      <td>1.000000</td>\n",
       "      <td>0.007766</td>\n",
       "      <td>-0.005426</td>\n",
       "      <td>0.002491</td>\n",
       "      <td>0.009170</td>\n",
       "      <td>0.014446</td>\n",
       "      <td>-0.013123</td>\n",
       "    </tr>\n",
       "    <tr>\n",
       "      <td>Target_Satisfied</td>\n",
       "      <td>0.017360</td>\n",
       "      <td>0.007766</td>\n",
       "      <td>1.000000</td>\n",
       "      <td>-0.053278</td>\n",
       "      <td>0.001063</td>\n",
       "      <td>-0.049296</td>\n",
       "      <td>-0.005274</td>\n",
       "      <td>0.029954</td>\n",
       "    </tr>\n",
       "    <tr>\n",
       "      <td>LOAN_AMT</td>\n",
       "      <td>0.004329</td>\n",
       "      <td>-0.005426</td>\n",
       "      <td>-0.053278</td>\n",
       "      <td>1.000000</td>\n",
       "      <td>0.038297</td>\n",
       "      <td>0.435464</td>\n",
       "      <td>-0.021587</td>\n",
       "      <td>-0.013210</td>\n",
       "    </tr>\n",
       "    <tr>\n",
       "      <td>dti</td>\n",
       "      <td>0.037443</td>\n",
       "      <td>0.002491</td>\n",
       "      <td>0.001063</td>\n",
       "      <td>0.038297</td>\n",
       "      <td>1.000000</td>\n",
       "      <td>-0.050584</td>\n",
       "      <td>0.011303</td>\n",
       "      <td>-0.002151</td>\n",
       "    </tr>\n",
       "    <tr>\n",
       "      <td>last_pymnt_amnt</td>\n",
       "      <td>-0.021086</td>\n",
       "      <td>0.009170</td>\n",
       "      <td>-0.049296</td>\n",
       "      <td>0.435464</td>\n",
       "      <td>-0.050584</td>\n",
       "      <td>1.000000</td>\n",
       "      <td>0.006990</td>\n",
       "      <td>-0.014675</td>\n",
       "    </tr>\n",
       "    <tr>\n",
       "      <td>latitude</td>\n",
       "      <td>-0.006909</td>\n",
       "      <td>0.014446</td>\n",
       "      <td>-0.005274</td>\n",
       "      <td>-0.021587</td>\n",
       "      <td>0.011303</td>\n",
       "      <td>0.006990</td>\n",
       "      <td>1.000000</td>\n",
       "      <td>0.158156</td>\n",
       "    </tr>\n",
       "    <tr>\n",
       "      <td>longitude</td>\n",
       "      <td>0.016005</td>\n",
       "      <td>-0.013123</td>\n",
       "      <td>0.029954</td>\n",
       "      <td>-0.013210</td>\n",
       "      <td>-0.002151</td>\n",
       "      <td>-0.014675</td>\n",
       "      <td>0.158156</td>\n",
       "      <td>1.000000</td>\n",
       "    </tr>\n",
       "  </tbody>\n",
       "</table>\n",
       "</div>"
      ],
      "text/plain": [
       "                        id  Target_Salary  Target_Satisfied  LOAN_AMT  \\\n",
       "id                1.000000      -0.010424          0.017360  0.004329   \n",
       "Target_Salary    -0.010424       1.000000          0.007766 -0.005426   \n",
       "Target_Satisfied  0.017360       0.007766          1.000000 -0.053278   \n",
       "LOAN_AMT          0.004329      -0.005426         -0.053278  1.000000   \n",
       "dti               0.037443       0.002491          0.001063  0.038297   \n",
       "last_pymnt_amnt  -0.021086       0.009170         -0.049296  0.435464   \n",
       "latitude         -0.006909       0.014446         -0.005274 -0.021587   \n",
       "longitude         0.016005      -0.013123          0.029954 -0.013210   \n",
       "\n",
       "                       dti  last_pymnt_amnt  latitude  longitude  \n",
       "id                0.037443        -0.021086 -0.006909   0.016005  \n",
       "Target_Salary     0.002491         0.009170  0.014446  -0.013123  \n",
       "Target_Satisfied  0.001063        -0.049296 -0.005274   0.029954  \n",
       "LOAN_AMT          0.038297         0.435464 -0.021587  -0.013210  \n",
       "dti               1.000000        -0.050584  0.011303  -0.002151  \n",
       "last_pymnt_amnt  -0.050584         1.000000  0.006990  -0.014675  \n",
       "latitude          0.011303         0.006990  1.000000   0.158156  \n",
       "longitude        -0.002151        -0.014675  0.158156   1.000000  "
      ]
     },
     "execution_count": 8,
     "metadata": {},
     "output_type": "execute_result"
    }
   ],
   "source": [
    "df.corr()"
   ]
  },
  {
   "cell_type": "code",
   "execution_count": 9,
   "metadata": {},
   "outputs": [
    {
     "data": {
      "text/plain": [
       "Index(['id', 'Target_Salary', 'Target_Satisfied', 'LOAN_AMT', 'Business Title',\n",
       "       'Civil Service Title', 'Division/Work Unit', 'Job Description',\n",
       "       'Minimum Qual Requirements', 'Preferred Skills',\n",
       "       'Additional Information', 'To Apply', 'Hours/Shift',\n",
       "       'Residency Requirement', 'Posting Date', 'Posting Updated',\n",
       "       'Process Date', 'FormalEducation', 'UndergradMajor', 'CompanySize',\n",
       "       'DevType', 'YearsCoding', 'YearsCodingProf', 'HopeFiveYears',\n",
       "       'JobSearchStatus', 'LastNewJob', 'UpdateCV', 'CommunicationTools',\n",
       "       'TimeFullyProductive', 'EducationTypes', 'SelfTaughtTypes',\n",
       "       'TimeAfterBootcamp', 'HackathonReasons', 'AgreeDisagree1',\n",
       "       'AgreeDisagree2', 'AgreeDisagree3', 'LanguageWorkedWith',\n",
       "       'LanguageDesireNextYear', 'DatabaseWorkedWith',\n",
       "       'DatabaseDesireNextYear', 'PlatformWorkedWith',\n",
       "       'PlatformDesireNextYear', 'FrameworkWorkedWith',\n",
       "       'FrameworkDesireNextYear', 'IDE', 'OperatingSystem', 'Methodology',\n",
       "       'VersionControl', 'CheckInCode', 'AIDangerous', 'AIInteresting',\n",
       "       'AIResponsible', 'AIFuture', 'Age', 'term', 'loan_status', 'pymnt_plan',\n",
       "       'orignal_website_directory', 'purpose', 'title', 'zip_code',\n",
       "       'addr_state', 'dti', 'earliest_cr_line', 'last_pymnt_d',\n",
       "       'last_pymnt_amnt', 'next_pymnt_d', 'last_credit_pull_d', 'Time',\n",
       "       'emp_length', 'your_favoritearticle_today', 'url', 'Email',\n",
       "       'homeaddress', 'latitude', 'longitude', 'PHONE', 'officeaddress',\n",
       "       'website', 'dateAdded', 'previousaddress', 'phones', 'CrimeTime'],\n",
       "      dtype='object')"
      ]
     },
     "execution_count": 9,
     "metadata": {},
     "output_type": "execute_result"
    }
   ],
   "source": [
    "df.columns"
   ]
  },
  {
   "cell_type": "code",
   "execution_count": 10,
   "metadata": {},
   "outputs": [],
   "source": [
    "df.replace([np.NZERO,np.PZERO,np.inf],np.nan,inplace=True)"
   ]
  },
  {
   "cell_type": "code",
   "execution_count": 11,
   "metadata": {},
   "outputs": [
    {
     "data": {
      "text/plain": [
       "\"features = df.drop(['Job Description','Minimum Qual Requirements', 'Preferred Skills',\\n       'Additional Information', 'To Apply', 'Hours/Shift',\\n       'Residency Requirement', 'Posting Date', 'Posting Updated',\\n       'Process Date', 'FormalEducation', 'UndergradMajor','YearsCoding', 'HopeFiveYears',\\n       'JobSearchStatus', 'LastNewJob','UpdateCV', 'CommunicationTools',\\n       'TimeFullyProductive', 'EducationTypes', 'SelfTaughtTypes',\\n       'TimeAfterBootcamp', 'HackathonReasons', 'AgreeDisagree1',\\n       'AgreeDisagree2', 'AgreeDisagree3', 'LanguageWorkedWith',\\n       'LanguageDesireNextYear', 'DatabaseWorkedWith',\\n       'DatabaseDesireNextYear', 'PlatformWorkedWith',\\n       'PlatformDesireNextYear', 'FrameworkWorkedWith','FrameworkDesireNextYear', 'IDE', 'OperatingSystem', 'Methodology',\\n       'VersionControl', 'CheckInCode', 'AIDangerous', 'AIInteresting',\\n       'AIResponsible', 'AIFuture', 'Age', 'term', 'loan_status', 'pymnt_plan',\\n       'orignal_website_directory', 'purpose', 'title', 'zip_code','addr_state', 'dti', 'earliest_cr_line', 'last_pymnt_d',\\n                   'next_pymnt_d', 'last_credit_pull_d', 'Time',\\n                 'emp_length', 'your_favoritearticle_today', 'url', 'Email',\\n                 'homeaddress', 'latitude', 'longitude', 'PHONE', 'officeaddress',\\n                  'website', 'dateAdded', 'previousaddress', 'phones', 'CrimeTime'], axis=1)\\n\""
      ]
     },
     "execution_count": 11,
     "metadata": {},
     "output_type": "execute_result"
    }
   ],
   "source": [
    "'''features = df.drop(['Job Description','Minimum Qual Requirements', 'Preferred Skills',\n",
    "       'Additional Information', 'To Apply', 'Hours/Shift',\n",
    "       'Residency Requirement', 'Posting Date', 'Posting Updated',\n",
    "       'Process Date', 'FormalEducation', 'UndergradMajor','YearsCoding', 'HopeFiveYears',\n",
    "       'JobSearchStatus', 'LastNewJob','UpdateCV', 'CommunicationTools',\n",
    "       'TimeFullyProductive', 'EducationTypes', 'SelfTaughtTypes',\n",
    "       'TimeAfterBootcamp', 'HackathonReasons', 'AgreeDisagree1',\n",
    "       'AgreeDisagree2', 'AgreeDisagree3', 'LanguageWorkedWith',\n",
    "       'LanguageDesireNextYear', 'DatabaseWorkedWith',\n",
    "       'DatabaseDesireNextYear', 'PlatformWorkedWith',\n",
    "       'PlatformDesireNextYear', 'FrameworkWorkedWith','FrameworkDesireNextYear', 'IDE', 'OperatingSystem', 'Methodology',\n",
    "       'VersionControl', 'CheckInCode', 'AIDangerous', 'AIInteresting',\n",
    "       'AIResponsible', 'AIFuture', 'Age', 'term', 'loan_status', 'pymnt_plan',\n",
    "       'orignal_website_directory', 'purpose', 'title', 'zip_code','addr_state', 'dti', 'earliest_cr_line', 'last_pymnt_d',\n",
    "                   'next_pymnt_d', 'last_credit_pull_d', 'Time',\n",
    "                 'emp_length', 'your_favoritearticle_today', 'url', 'Email',\n",
    "                 'homeaddress', 'latitude', 'longitude', 'PHONE', 'officeaddress',\n",
    "                  'website', 'dateAdded', 'previousaddress', 'phones', 'CrimeTime'], axis=1)\n",
    "'''\n",
    "\n",
    "\n",
    "\n",
    "\n"
   ]
  },
  {
   "cell_type": "code",
   "execution_count": 12,
   "metadata": {},
   "outputs": [],
   "source": [
    "# After a long analysis these variables are being treated as features\n",
    "features = df[['Target_Salary', 'Target_Satisfied','LOAN_AMT', 'Business Title',\n",
    "       'Civil Service Title', 'Division/Work Unit', 'CompanySize', 'DevType',\n",
    "       'YearsCodingProf', 'last_pymnt_amnt']]"
   ]
  },
  {
   "cell_type": "code",
   "execution_count": 13,
   "metadata": {},
   "outputs": [
    {
     "name": "stderr",
     "output_type": "stream",
     "text": [
      "D:\\anacondaaa\\lib\\site-packages\\ipykernel_launcher.py:1: SettingWithCopyWarning: \n",
      "A value is trying to be set on a copy of a slice from a DataFrame.\n",
      "Try using .loc[row_indexer,col_indexer] = value instead\n",
      "\n",
      "See the caveats in the documentation: http://pandas.pydata.org/pandas-docs/stable/user_guide/indexing.html#returning-a-view-versus-a-copy\n",
      "  \"\"\"Entry point for launching an IPython kernel.\n",
      "D:\\anacondaaa\\lib\\site-packages\\ipykernel_launcher.py:2: SettingWithCopyWarning: \n",
      "A value is trying to be set on a copy of a slice from a DataFrame\n",
      "\n",
      "See the caveats in the documentation: http://pandas.pydata.org/pandas-docs/stable/user_guide/indexing.html#returning-a-view-versus-a-copy\n",
      "  \n"
     ]
    }
   ],
   "source": [
    "features['YearsCodingProf'] = features['YearsCodingProf'].fillna('12-14 years')\n",
    "features.dropna(inplace = True,axis=0)"
   ]
  },
  {
   "cell_type": "code",
   "execution_count": 14,
   "metadata": {},
   "outputs": [
    {
     "data": {
      "text/plain": [
       "Target_Salary          0\n",
       "Target_Satisfied       0\n",
       "LOAN_AMT               0\n",
       "Business Title         0\n",
       "Civil Service Title    0\n",
       "Division/Work Unit     0\n",
       "CompanySize            0\n",
       "DevType                0\n",
       "YearsCodingProf        0\n",
       "last_pymnt_amnt        0\n",
       "dtype: int64"
      ]
     },
     "execution_count": 14,
     "metadata": {},
     "output_type": "execute_result"
    }
   ],
   "source": [
    "features.isnull().sum()"
   ]
  },
  {
   "cell_type": "code",
   "execution_count": null,
   "metadata": {},
   "outputs": [],
   "source": []
  },
  {
   "cell_type": "code",
   "execution_count": 15,
   "metadata": {},
   "outputs": [],
   "source": [
    "variables = features.drop(['Target_Salary', 'Target_Satisfied'],axis=1)"
   ]
  },
  {
   "cell_type": "code",
   "execution_count": 16,
   "metadata": {},
   "outputs": [
    {
     "data": {
      "text/html": [
       "<div>\n",
       "<style scoped>\n",
       "    .dataframe tbody tr th:only-of-type {\n",
       "        vertical-align: middle;\n",
       "    }\n",
       "\n",
       "    .dataframe tbody tr th {\n",
       "        vertical-align: top;\n",
       "    }\n",
       "\n",
       "    .dataframe thead th {\n",
       "        text-align: right;\n",
       "    }\n",
       "</style>\n",
       "<table border=\"1\" class=\"dataframe\">\n",
       "  <thead>\n",
       "    <tr style=\"text-align: right;\">\n",
       "      <th></th>\n",
       "      <th>LOAN_AMT</th>\n",
       "      <th>Business Title</th>\n",
       "      <th>Civil Service Title</th>\n",
       "      <th>Division/Work Unit</th>\n",
       "      <th>CompanySize</th>\n",
       "      <th>DevType</th>\n",
       "      <th>YearsCodingProf</th>\n",
       "      <th>last_pymnt_amnt</th>\n",
       "    </tr>\n",
       "  </thead>\n",
       "  <tbody>\n",
       "    <tr>\n",
       "      <td>1</td>\n",
       "      <td>1.19</td>\n",
       "      <td>EXECUTIVE DIRECTOR, BUSINESS DEVELOPMENT</td>\n",
       "      <td>ADMINISTRATIVE BUSINESS PROMOT</td>\n",
       "      <td>Tech Talent Pipeline</td>\n",
       "      <td>10,000 or more employees</td>\n",
       "      <td>Database administrator;DevOps specialist;Full-...</td>\n",
       "      <td>18-20 years</td>\n",
       "      <td>-0.51</td>\n",
       "    </tr>\n",
       "    <tr>\n",
       "      <td>4</td>\n",
       "      <td>-0.46</td>\n",
       "      <td>Temporary Painter</td>\n",
       "      <td>PAINTER</td>\n",
       "      <td>Dept of Management &amp; Planning</td>\n",
       "      <td>10,000 or more employees</td>\n",
       "      <td>Data or business analyst;Desktop or enterprise...</td>\n",
       "      <td>0-2 years</td>\n",
       "      <td>1.01</td>\n",
       "    </tr>\n",
       "    <tr>\n",
       "      <td>7</td>\n",
       "      <td>0.64</td>\n",
       "      <td>Associate Chemist</td>\n",
       "      <td>ASSOCIATE CHEMIST</td>\n",
       "      <td>DWOC Labs-Lefrak</td>\n",
       "      <td>10 to 19 employees</td>\n",
       "      <td>Designer;Front-end developer;QA or test developer</td>\n",
       "      <td>3-5 years</td>\n",
       "      <td>1.75</td>\n",
       "    </tr>\n",
       "    <tr>\n",
       "      <td>24</td>\n",
       "      <td>-0.97</td>\n",
       "      <td>HIGH PRESSURE PLANT TENDER</td>\n",
       "      <td>HIGH PRESSURE PLANT TENDER</td>\n",
       "      <td>Technical Services Department</td>\n",
       "      <td>100 to 499 employees</td>\n",
       "      <td>Mobile developer</td>\n",
       "      <td>3-5 years</td>\n",
       "      <td>-0.63</td>\n",
       "    </tr>\n",
       "    <tr>\n",
       "      <td>25</td>\n",
       "      <td>-1.18</td>\n",
       "      <td>HIGH PRESSURE PLANT TENDER</td>\n",
       "      <td>HIGH PRESSURE PLANT TENDER</td>\n",
       "      <td>Technical Services Department</td>\n",
       "      <td>20 to 99 employees</td>\n",
       "      <td>Full-stack developer</td>\n",
       "      <td>9-11 years</td>\n",
       "      <td>-0.64</td>\n",
       "    </tr>\n",
       "    <tr>\n",
       "      <td>...</td>\n",
       "      <td>...</td>\n",
       "      <td>...</td>\n",
       "      <td>...</td>\n",
       "      <td>...</td>\n",
       "      <td>...</td>\n",
       "      <td>...</td>\n",
       "      <td>...</td>\n",
       "      <td>...</td>\n",
       "    </tr>\n",
       "    <tr>\n",
       "      <td>2917</td>\n",
       "      <td>-0.05</td>\n",
       "      <td>Prosecuting Attorney</td>\n",
       "      <td>AGENCY ATTORNEY INTERNE</td>\n",
       "      <td>Prosecution Division</td>\n",
       "      <td>20 to 99 employees</td>\n",
       "      <td>DevOps specialist;System administrator</td>\n",
       "      <td>6-8 years</td>\n",
       "      <td>-0.66</td>\n",
       "    </tr>\n",
       "    <tr>\n",
       "      <td>2924</td>\n",
       "      <td>-0.28</td>\n",
       "      <td>SPECIAL PROJECTS ASSOCIATE</td>\n",
       "      <td>PRINCIPAL ADMINISTRATIVE ASSOC</td>\n",
       "      <td>Off of Human Capital Mgmt NM</td>\n",
       "      <td>100 to 499 employees</td>\n",
       "      <td>Back-end developer;DevOps specialist;System ad...</td>\n",
       "      <td>18-20 years</td>\n",
       "      <td>-0.61</td>\n",
       "    </tr>\n",
       "    <tr>\n",
       "      <td>2932</td>\n",
       "      <td>0.07</td>\n",
       "      <td>City Seasonal Aide/Security Guard</td>\n",
       "      <td>CITY SEASONAL AIDE</td>\n",
       "      <td>Arsenal North Peps</td>\n",
       "      <td>500 to 999 employees</td>\n",
       "      <td>Back-end developer;Designer;Desktop or enterpr...</td>\n",
       "      <td>15-17 years</td>\n",
       "      <td>0.20</td>\n",
       "    </tr>\n",
       "    <tr>\n",
       "      <td>2933</td>\n",
       "      <td>-0.51</td>\n",
       "      <td>City Seasonal Aide/Security Guard</td>\n",
       "      <td>CITY SEASONAL AIDE</td>\n",
       "      <td>Arsenal North Peps</td>\n",
       "      <td>500 to 999 employees</td>\n",
       "      <td>Back-end developer</td>\n",
       "      <td>0-2 years</td>\n",
       "      <td>-0.24</td>\n",
       "    </tr>\n",
       "    <tr>\n",
       "      <td>2942</td>\n",
       "      <td>0.49</td>\n",
       "      <td>Senior Mechanical Cost Estimator</td>\n",
       "      <td>CONSTRUCTION PROJECT MANAGER</td>\n",
       "      <td>Eng, Design Const Supp</td>\n",
       "      <td>5,000 to 9,999 employees</td>\n",
       "      <td>Back-end developer;Desktop or enterprise appli...</td>\n",
       "      <td>9-11 years</td>\n",
       "      <td>1.69</td>\n",
       "    </tr>\n",
       "  </tbody>\n",
       "</table>\n",
       "<p>607 rows × 8 columns</p>\n",
       "</div>"
      ],
      "text/plain": [
       "      LOAN_AMT                            Business Title  \\\n",
       "1         1.19  EXECUTIVE DIRECTOR, BUSINESS DEVELOPMENT   \n",
       "4        -0.46                         Temporary Painter   \n",
       "7         0.64                         Associate Chemist   \n",
       "24       -0.97                HIGH PRESSURE PLANT TENDER   \n",
       "25       -1.18                HIGH PRESSURE PLANT TENDER   \n",
       "...        ...                                       ...   \n",
       "2917     -0.05                      Prosecuting Attorney   \n",
       "2924     -0.28                SPECIAL PROJECTS ASSOCIATE   \n",
       "2932      0.07         City Seasonal Aide/Security Guard   \n",
       "2933     -0.51         City Seasonal Aide/Security Guard   \n",
       "2942      0.49          Senior Mechanical Cost Estimator   \n",
       "\n",
       "                 Civil Service Title             Division/Work Unit  \\\n",
       "1     ADMINISTRATIVE BUSINESS PROMOT           Tech Talent Pipeline   \n",
       "4                            PAINTER  Dept of Management & Planning   \n",
       "7                  ASSOCIATE CHEMIST               DWOC Labs-Lefrak   \n",
       "24        HIGH PRESSURE PLANT TENDER  Technical Services Department   \n",
       "25        HIGH PRESSURE PLANT TENDER  Technical Services Department   \n",
       "...                              ...                            ...   \n",
       "2917         AGENCY ATTORNEY INTERNE           Prosecution Division   \n",
       "2924  PRINCIPAL ADMINISTRATIVE ASSOC   Off of Human Capital Mgmt NM   \n",
       "2932              CITY SEASONAL AIDE             Arsenal North Peps   \n",
       "2933              CITY SEASONAL AIDE             Arsenal North Peps   \n",
       "2942    CONSTRUCTION PROJECT MANAGER         Eng, Design Const Supp   \n",
       "\n",
       "                   CompanySize  \\\n",
       "1     10,000 or more employees   \n",
       "4     10,000 or more employees   \n",
       "7           10 to 19 employees   \n",
       "24        100 to 499 employees   \n",
       "25          20 to 99 employees   \n",
       "...                        ...   \n",
       "2917        20 to 99 employees   \n",
       "2924      100 to 499 employees   \n",
       "2932      500 to 999 employees   \n",
       "2933      500 to 999 employees   \n",
       "2942  5,000 to 9,999 employees   \n",
       "\n",
       "                                                DevType YearsCodingProf  \\\n",
       "1     Database administrator;DevOps specialist;Full-...     18-20 years   \n",
       "4     Data or business analyst;Desktop or enterprise...       0-2 years   \n",
       "7     Designer;Front-end developer;QA or test developer       3-5 years   \n",
       "24                                     Mobile developer       3-5 years   \n",
       "25                                 Full-stack developer      9-11 years   \n",
       "...                                                 ...             ...   \n",
       "2917             DevOps specialist;System administrator       6-8 years   \n",
       "2924  Back-end developer;DevOps specialist;System ad...     18-20 years   \n",
       "2932  Back-end developer;Designer;Desktop or enterpr...     15-17 years   \n",
       "2933                                 Back-end developer       0-2 years   \n",
       "2942  Back-end developer;Desktop or enterprise appli...      9-11 years   \n",
       "\n",
       "      last_pymnt_amnt  \n",
       "1               -0.51  \n",
       "4                1.01  \n",
       "7                1.75  \n",
       "24              -0.63  \n",
       "25              -0.64  \n",
       "...               ...  \n",
       "2917            -0.66  \n",
       "2924            -0.61  \n",
       "2932             0.20  \n",
       "2933            -0.24  \n",
       "2942             1.69  \n",
       "\n",
       "[607 rows x 8 columns]"
      ]
     },
     "execution_count": 16,
     "metadata": {},
     "output_type": "execute_result"
    }
   ],
   "source": [
    "from sklearn.preprocessing import StandardScaler\n",
    "\n",
    "scaler = StandardScaler()\n",
    "\n",
    "variables[['LOAN_AMT','last_pymnt_amnt']] = scaler.fit_transform(variables[['LOAN_AMT','last_pymnt_amnt']])\n",
    "variables['LOAN_AMT'] = np.round(variables['LOAN_AMT'],2)\n",
    "variables['last_pymnt_amnt'] = np.round(variables['last_pymnt_amnt'],2)\n",
    "variables"
   ]
  },
  {
   "cell_type": "code",
   "execution_count": 17,
   "metadata": {},
   "outputs": [],
   "source": [
    "Reg_target = np.log(features['Target_Salary']) # np.log() for Homoscedasity\n",
    "clf_target = features['Target_Satisfied']"
   ]
  },
  {
   "cell_type": "code",
   "execution_count": 18,
   "metadata": {},
   "outputs": [
    {
     "data": {
      "image/png": "[encoded data removed]",
      "text/plain": [
       "<Figure size 432x288 with 1 Axes>"
      ]
     },
     "metadata": {
      "needs_background": "light"
     },
     "output_type": "display_data"
    }
   ],
   "source": [
    "plt.scatter(Reg_target,features['last_pymnt_amnt']) # Graph with np.log\n",
    "\n",
    "plt.show()"
   ]
  },
  {
   "cell_type": "code",
   "execution_count": 19,
   "metadata": {},
   "outputs": [
    {
     "data": {
      "text/plain": [
       "<matplotlib.collections.PathCollection at 0x1aa07b17988>"
      ]
     },
     "execution_count": 19,
     "metadata": {},
     "output_type": "execute_result"
    },
    {
     "data": {
      "image/png": "[encoded data removed]",
      "text/plain": [
       "<Figure size 432x288 with 1 Axes>"
      ]
     },
     "metadata": {
      "needs_background": "light"
     },
     "output_type": "display_data"
    }
   ],
   "source": [
    "plt.scatter(features['Target_Salary'],features['last_pymnt_amnt']) #Graph without np.log"
   ]
  },
  {
   "cell_type": "code",
   "execution_count": 20,
   "metadata": {},
   "outputs": [],
   "source": [
    "from collections import defaultdict  \n",
    "from sklearn.preprocessing import LabelEncoder"
   ]
  },
  {
   "cell_type": "code",
   "execution_count": 21,
   "metadata": {},
   "outputs": [],
   "source": [
    "#variables.columns"
   ]
  },
  {
   "cell_type": "code",
   "execution_count": 22,
   "metadata": {},
   "outputs": [],
   "source": [
    "encoder_dict = defaultdict(LabelEncoder)\n",
    "variables[['Business Title', 'Civil Service Title',\n",
    "       'Division/Work Unit', 'CompanySize', 'DevType', 'YearsCodingProf']] = variables[['Business Title', 'Civil Service Title',\n",
    "       'Division/Work Unit', 'CompanySize', 'DevType', 'YearsCodingProf']].apply(lambda x: encoder_dict[x.name].fit_transform(x))"
   ]
  },
  {
   "cell_type": "code",
   "execution_count": 23,
   "metadata": {},
   "outputs": [],
   "source": [
    "from sklearn.model_selection import train_test_split\n",
    "rxtrain,rxtest,rytrain,rytest=train_test_split(variables,Reg_target,test_size=0.2,shuffle=True,random_state=42)\n",
    "cxtrain,cxtest,cytrain,cytest=train_test_split(variables,clf_target,test_size=0.2,shuffle=True,random_state=42)"
   ]
  },
  {
   "cell_type": "code",
   "execution_count": 24,
   "metadata": {},
   "outputs": [],
   "source": [
    "from sklearn.ensemble import RandomForestRegressor,RandomForestClassifier\n",
    "from sklearn.model_selection import cross_validate,GridSearchCV"
   ]
  },
  {
   "cell_type": "code",
   "execution_count": 25,
   "metadata": {},
   "outputs": [],
   "source": [
    "reg = RandomForestRegressor(max_depth=2, random_state=0)\n",
    "clf = RandomForestClassifier()"
   ]
  },
  {
   "cell_type": "code",
   "execution_count": 26,
   "metadata": {},
   "outputs": [
    {
     "name": "stderr",
     "output_type": "stream",
     "text": [
      "D:\\anacondaaa\\lib\\site-packages\\sklearn\\ensemble\\forest.py:245: FutureWarning: The default value of n_estimators will change from 10 in version 0.20 to 100 in 0.22.\n",
      "  \"10 in version 0.20 to 100 in 0.22.\", FutureWarning)\n"
     ]
    },
    {
     "data": {
      "text/plain": [
       "RandomForestRegressor(bootstrap=True, criterion='mse', max_depth=2,\n",
       "                      max_features='auto', max_leaf_nodes=None,\n",
       "                      min_impurity_decrease=0.0, min_impurity_split=None,\n",
       "                      min_samples_leaf=1, min_samples_split=2,\n",
       "                      min_weight_fraction_leaf=0.0, n_estimators=10,\n",
       "                      n_jobs=None, oob_score=False, random_state=0, verbose=0,\n",
       "                      warm_start=False)"
      ]
     },
     "execution_count": 26,
     "metadata": {},
     "output_type": "execute_result"
    }
   ],
   "source": [
    "reg.fit(rxtrain,rytrain)\n",
    "\n"
   ]
  },
  {
   "cell_type": "code",
   "execution_count": 27,
   "metadata": {},
   "outputs": [],
   "source": [
    "#rxtrain.dtypes"
   ]
  },
  {
   "cell_type": "code",
   "execution_count": 28,
   "metadata": {},
   "outputs": [],
   "source": [
    "#rytest.shape"
   ]
  },
  {
   "cell_type": "code",
   "execution_count": 29,
   "metadata": {},
   "outputs": [],
   "source": [
    "prdct = reg.predict(rxtrain)"
   ]
  },
  {
   "cell_type": "code",
   "execution_count": 30,
   "metadata": {},
   "outputs": [],
   "source": [
    "prdct.shape\n",
    "from sklearn.metrics import mean_squared_error as mse\n",
    "from sklearn.metrics import f1_score , accuracy_score"
   ]
  },
  {
   "cell_type": "code",
   "execution_count": 31,
   "metadata": {},
   "outputs": [],
   "source": [
    "RMSEtrain = (np.sum((prdct-rytrain)**2)/len(prdct))**0.5"
   ]
  },
  {
   "cell_type": "code",
   "execution_count": 32,
   "metadata": {},
   "outputs": [
    {
     "data": {
      "text/plain": [
       "1.7896600797700082"
      ]
     },
     "execution_count": 32,
     "metadata": {},
     "output_type": "execute_result"
    }
   ],
   "source": [
    "RMSEtrain"
   ]
  },
  {
   "cell_type": "code",
   "execution_count": 33,
   "metadata": {},
   "outputs": [],
   "source": [
    "tprd = reg.predict(rxtest)\n",
    "RMSEtest = (np.sum((tprd-rytest)**2)/len(prdct))**0.5"
   ]
  },
  {
   "cell_type": "code",
   "execution_count": 34,
   "metadata": {},
   "outputs": [
    {
     "data": {
      "text/plain": [
       "1.011983298710605"
      ]
     },
     "execution_count": 34,
     "metadata": {},
     "output_type": "execute_result"
    }
   ],
   "source": [
    "RMSEtest"
   ]
  },
  {
   "cell_type": "code",
   "execution_count": 35,
   "metadata": {},
   "outputs": [
    {
     "name": "stderr",
     "output_type": "stream",
     "text": [
      "D:\\anacondaaa\\lib\\site-packages\\sklearn\\ensemble\\forest.py:245: FutureWarning: The default value of n_estimators will change from 10 in version 0.20 to 100 in 0.22.\n",
      "  \"10 in version 0.20 to 100 in 0.22.\", FutureWarning)\n"
     ]
    },
    {
     "data": {
      "text/plain": [
       "RandomForestClassifier(bootstrap=True, class_weight=None, criterion='gini',\n",
       "                       max_depth=None, max_features='auto', max_leaf_nodes=None,\n",
       "                       min_impurity_decrease=0.0, min_impurity_split=None,\n",
       "                       min_samples_leaf=1, min_samples_split=2,\n",
       "                       min_weight_fraction_leaf=0.0, n_estimators=10,\n",
       "                       n_jobs=None, oob_score=False, random_state=None,\n",
       "                       verbose=0, warm_start=False)"
      ]
     },
     "execution_count": 35,
     "metadata": {},
     "output_type": "execute_result"
    }
   ],
   "source": [
    "clf.fit(cxtrain,cytrain)"
   ]
  },
  {
   "cell_type": "code",
   "execution_count": 36,
   "metadata": {},
   "outputs": [],
   "source": [
    "cprd = clf.predict(cxtest)"
   ]
  },
  {
   "cell_type": "code",
   "execution_count": 37,
   "metadata": {},
   "outputs": [],
   "source": [
    "f1 = f1_score(cytest,cprd , average='weighted')"
   ]
  },
  {
   "cell_type": "code",
   "execution_count": 38,
   "metadata": {},
   "outputs": [
    {
     "name": "stdout",
     "output_type": "stream",
     "text": [
      "F1 wighted score is: 1.0 ,RMSE value is: 1.011983298710605\n"
     ]
    }
   ],
   "source": [
    "print(f'F1 wighted score is: {f1} ,RMSE value is: {RMSEtest}')"
   ]
  },
  {
   "cell_type": "code",
   "execution_count": null,
   "metadata": {},
   "outputs": [],
   "source": []
  }
 ],
 "metadata": {
  "kernelspec": {
   "display_name": "Python 3",
   "language": "python",
   "name": "python3"
  },
  "language_info": {
   "codemirror_mode": {
    "name": "ipython",
    "version": 3
   },
   "file_extension": ".py",
   "mimetype": "text/x-python",
   "name": "python",
   "nbconvert_exporter": "python",
   "pygments_lexer": "ipython3",
   "version": "3.7.4"
  }
 },
 "nbformat": 4,
 "nbformat_minor": 2
}
